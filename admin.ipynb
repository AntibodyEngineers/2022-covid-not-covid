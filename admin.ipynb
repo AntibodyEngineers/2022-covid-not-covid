{
 "cells": [
  {
   "cell_type": "code",
   "execution_count": 1,
   "id": "294d219c-7c73-4c96-8fcf-02965682ddee",
   "metadata": {},
   "outputs": [],
   "source": [
    "import os\n",
    "import sys"
   ]
  },
  {
   "cell_type": "code",
   "execution_count": 2,
   "id": "7051d858-8cae-4639-9b9a-352bab4ad66f",
   "metadata": {},
   "outputs": [
    {
     "data": {
      "text/plain": [
       "'/home/jiyao/.conda/envs/ipykernel_py3/bin/python'"
      ]
     },
     "execution_count": 2,
     "metadata": {},
     "output_type": "execute_result"
    }
   ],
   "source": [
    "sys.executable"
   ]
  },
  {
   "cell_type": "code",
   "execution_count": 3,
   "id": "657d4251-28ed-4933-8171-5904b4dd0ae6",
   "metadata": {},
   "outputs": [
    {
     "name": "stdout",
     "output_type": "stream",
     "text": [
      "Requirement already satisfied: numpy in ./.local/lib/python3.10/site-packages (1.22.4)\n"
     ]
    }
   ],
   "source": [
    "!{sys.executable} -m pip install numpy"
   ]
  },
  {
   "cell_type": "code",
   "execution_count": 4,
   "id": "04a2e29f-f4fd-49d4-8f08-ee1a34358a06",
   "metadata": {},
   "outputs": [
    {
     "name": "stdout",
     "output_type": "stream",
     "text": [
      "Collecting pandas\n",
      "  Using cached pandas-1.4.3-cp310-cp310-manylinux_2_17_x86_64.manylinux2014_x86_64.whl (11.6 MB)\n",
      "Requirement already satisfied: numpy>=1.21.0 in ./.local/lib/python3.10/site-packages (from pandas) (1.22.4)\n",
      "Requirement already satisfied: python-dateutil>=2.8.1 in ./.local/lib/python3.10/site-packages (from pandas) (2.8.2)\n",
      "Requirement already satisfied: pytz>=2020.1 in ./.local/lib/python3.10/site-packages (from pandas) (2022.1)\n",
      "Requirement already satisfied: six>=1.5 in ./.local/lib/python3.10/site-packages (from python-dateutil>=2.8.1->pandas) (1.16.0)\n",
      "Installing collected packages: pandas\n",
      "Successfully installed pandas-1.4.3\n"
     ]
    }
   ],
   "source": [
    "!{sys.executable} -m pip install pandas"
   ]
  },
  {
   "cell_type": "code",
   "execution_count": 5,
   "id": "f73db915-c7fe-4f0c-b629-76e2baec4897",
   "metadata": {},
   "outputs": [
    {
     "name": "stdout",
     "output_type": "stream",
     "text": [
      "Collecting matplotlib\n",
      "  Using cached matplotlib-3.5.2-cp310-cp310-manylinux_2_17_x86_64.manylinux2014_x86_64.whl (11.9 MB)\n",
      "Requirement already satisfied: pyparsing>=2.2.1 in ./.local/lib/python3.10/site-packages (from matplotlib) (3.0.9)\n",
      "Collecting cycler>=0.10\n",
      "  Using cached cycler-0.11.0-py3-none-any.whl (6.4 kB)\n",
      "Requirement already satisfied: packaging>=20.0 in ./.local/lib/python3.10/site-packages (from matplotlib) (21.3)\n",
      "Requirement already satisfied: python-dateutil>=2.7 in ./.local/lib/python3.10/site-packages (from matplotlib) (2.8.2)\n",
      "Requirement already satisfied: numpy>=1.17 in ./.local/lib/python3.10/site-packages (from matplotlib) (1.22.4)\n",
      "Collecting pillow>=6.2.0\n",
      "  Using cached Pillow-9.2.0-cp310-cp310-manylinux_2_28_x86_64.whl (3.2 MB)\n",
      "Collecting fonttools>=4.22.0\n",
      "  Using cached fonttools-4.34.4-py3-none-any.whl (944 kB)\n",
      "Collecting kiwisolver>=1.0.1\n",
      "  Using cached kiwisolver-1.4.4-cp310-cp310-manylinux_2_12_x86_64.manylinux2010_x86_64.whl (1.6 MB)\n",
      "Requirement already satisfied: six>=1.5 in ./.local/lib/python3.10/site-packages (from python-dateutil>=2.7->matplotlib) (1.16.0)\n",
      "Installing collected packages: pillow, kiwisolver, fonttools, cycler, matplotlib\n",
      "Successfully installed cycler-0.11.0 fonttools-4.34.4 kiwisolver-1.4.4 matplotlib-3.5.2 pillow-9.2.0\n"
     ]
    }
   ],
   "source": [
    "!{sys.executable} -m pip install matplotlib"
   ]
  },
  {
   "cell_type": "code",
   "execution_count": 6,
   "id": "1fb1c2d6-0f1f-4bc6-ad34-992b728c3a88",
   "metadata": {},
   "outputs": [
    {
     "name": "stdout",
     "output_type": "stream",
     "text": [
      "Collecting sklearn\n",
      "  Using cached sklearn-0.0-py2.py3-none-any.whl\n",
      "Collecting scikit-learn\n",
      "  Using cached scikit_learn-1.1.2-cp310-cp310-manylinux_2_17_x86_64.manylinux2014_x86_64.whl (30.5 MB)\n",
      "Collecting joblib>=1.0.0\n",
      "  Using cached joblib-1.1.0-py2.py3-none-any.whl (306 kB)\n",
      "Collecting scipy>=1.3.2\n",
      "  Using cached scipy-1.9.0-cp310-cp310-manylinux_2_17_x86_64.manylinux2014_x86_64.whl (43.9 MB)\n",
      "Requirement already satisfied: numpy>=1.17.3 in ./.local/lib/python3.10/site-packages (from scikit-learn->sklearn) (1.22.4)\n",
      "Collecting threadpoolctl>=2.0.0\n",
      "  Using cached threadpoolctl-3.1.0-py3-none-any.whl (14 kB)\n",
      "Installing collected packages: threadpoolctl, scipy, joblib, scikit-learn, sklearn\n",
      "Successfully installed joblib-1.1.0 scikit-learn-1.1.2 scipy-1.9.0 sklearn-0.0 threadpoolctl-3.1.0\n"
     ]
    }
   ],
   "source": [
    "!{sys.executable} -m pip install sklearn"
   ]
  },
  {
   "cell_type": "code",
   "execution_count": 7,
   "id": "b8e2e475-e6de-495a-bec7-a0b46dc3775f",
   "metadata": {},
   "outputs": [
    {
     "name": "stdout",
     "output_type": "stream",
     "text": [
      "Requirement already satisfied: torch in ./.local/lib/python3.10/site-packages (1.12.1)\n",
      "Requirement already satisfied: typing-extensions in ./.local/lib/python3.10/site-packages (from torch) (4.3.0)\n"
     ]
    }
   ],
   "source": [
    "!{sys.executable} -m pip install torch"
   ]
  },
  {
   "cell_type": "code",
   "execution_count": 8,
   "id": "4dd1a055-dd7e-402b-887a-003029e8cf4e",
   "metadata": {},
   "outputs": [
    {
     "name": "stdout",
     "output_type": "stream",
     "text": [
      "Collecting typing\n",
      "  Using cached typing-3.7.4.3-py3-none-any.whl\n",
      "Installing collected packages: typing\n",
      "Successfully installed typing-3.7.4.3\n"
     ]
    }
   ],
   "source": [
    "!{sys.executable} -m pip install typing"
   ]
  },
  {
   "cell_type": "code",
   "execution_count": 9,
   "id": "d02e05e2-eca3-4708-8c5c-8c6fe719c67c",
   "metadata": {},
   "outputs": [
    {
     "name": "stdout",
     "output_type": "stream",
     "text": [
      "Collecting dataclasses\n",
      "  Using cached dataclasses-0.6-py3-none-any.whl (14 kB)\n",
      "Installing collected packages: dataclasses\n",
      "Successfully installed dataclasses-0.6\n"
     ]
    }
   ],
   "source": [
    "!{sys.executable} -m pip install dataclasses"
   ]
  },
  {
   "cell_type": "code",
   "execution_count": 10,
   "id": "e1deb00b-ead1-46c1-b3e5-1f68187dc392",
   "metadata": {},
   "outputs": [
    {
     "name": "stdout",
     "output_type": "stream",
     "text": [
      "Requirement already satisfied: fairseq in ./.local/lib/python3.10/site-packages (0.12.2)\n",
      "Requirement already satisfied: cython in ./.local/lib/python3.10/site-packages (from fairseq) (0.29.32)\n",
      "Requirement already satisfied: sacrebleu>=1.4.12 in ./.local/lib/python3.10/site-packages (from fairseq) (2.2.0)\n",
      "Requirement already satisfied: omegaconf<2.1 in ./.local/lib/python3.10/site-packages (from fairseq) (2.0.6)\n",
      "Requirement already satisfied: bitarray in ./.local/lib/python3.10/site-packages (from fairseq) (2.6.0)\n",
      "Requirement already satisfied: torch in ./.local/lib/python3.10/site-packages (from fairseq) (1.12.1)\n",
      "Requirement already satisfied: regex in ./.local/lib/python3.10/site-packages (from fairseq) (2022.7.25)\n",
      "Collecting cffi\n",
      "  Using cached cffi-1.15.1-cp310-cp310-manylinux_2_17_x86_64.manylinux2014_x86_64.whl (441 kB)\n",
      "Requirement already satisfied: torchaudio>=0.8.0 in ./.local/lib/python3.10/site-packages (from fairseq) (0.12.1)\n",
      "Collecting tqdm\n",
      "  Using cached tqdm-4.64.0-py2.py3-none-any.whl (78 kB)\n",
      "Requirement already satisfied: numpy in ./.local/lib/python3.10/site-packages (from fairseq) (1.22.4)\n",
      "Requirement already satisfied: hydra-core<1.1,>=1.0.7 in ./.local/lib/python3.10/site-packages (from fairseq) (1.0.7)\n",
      "Requirement already satisfied: antlr4-python3-runtime==4.8 in ./.local/lib/python3.10/site-packages (from hydra-core<1.1,>=1.0.7->fairseq) (4.8)\n",
      "Requirement already satisfied: PyYAML>=5.1.* in ./.local/lib/python3.10/site-packages (from omegaconf<2.1->fairseq) (6.0)\n",
      "Requirement already satisfied: typing-extensions in ./.local/lib/python3.10/site-packages (from omegaconf<2.1->fairseq) (4.3.0)\n",
      "Requirement already satisfied: tabulate>=0.8.9 in ./.local/lib/python3.10/site-packages (from sacrebleu>=1.4.12->fairseq) (0.8.10)\n",
      "Requirement already satisfied: lxml in ./.local/lib/python3.10/site-packages (from sacrebleu>=1.4.12->fairseq) (4.9.1)\n",
      "Requirement already satisfied: colorama in ./.local/lib/python3.10/site-packages (from sacrebleu>=1.4.12->fairseq) (0.4.5)\n",
      "Requirement already satisfied: portalocker in ./.local/lib/python3.10/site-packages (from sacrebleu>=1.4.12->fairseq) (2.5.1)\n",
      "Collecting pycparser\n",
      "  Using cached pycparser-2.21-py2.py3-none-any.whl (118 kB)\n",
      "Installing collected packages: tqdm, pycparser, cffi\n",
      "\u001b[31mERROR: pip's dependency resolver does not currently take into account all the packages that are installed. This behaviour is the source of the following dependency conflicts.\n",
      "ablang 0.2.2 requires requests, which is not installed.\u001b[0m\u001b[31m\n",
      "\u001b[0mSuccessfully installed cffi-1.15.1 pycparser-2.21 tqdm-4.64.0\n"
     ]
    }
   ],
   "source": [
    "!{sys.executable} -m pip install fairseq"
   ]
  },
  {
   "cell_type": "code",
   "execution_count": 11,
   "id": "bd30ed54-fb3d-408d-9f2f-b217c8a1389b",
   "metadata": {},
   "outputs": [
    {
     "name": "stdout",
     "output_type": "stream",
     "text": [
      "Requirement already satisfied: numba in ./.local/lib/python3.10/site-packages (0.56.0)\n",
      "Requirement already satisfied: numpy<1.23,>=1.18 in ./.local/lib/python3.10/site-packages (from numba) (1.22.4)\n",
      "Requirement already satisfied: llvmlite<0.40,>=0.39.0dev0 in ./.local/lib/python3.10/site-packages (from numba) (0.39.0)\n",
      "Requirement already satisfied: setuptools in ./.conda/envs/ipykernel_py3/lib/python3.10/site-packages (from numba) (61.2.0)\n"
     ]
    }
   ],
   "source": [
    "!{sys.executable} -m pip install numba"
   ]
  },
  {
   "cell_type": "code",
   "execution_count": 12,
   "id": "520fb9d2-58a2-4b21-a9dc-70707f61ae42",
   "metadata": {},
   "outputs": [
    {
     "name": "stdout",
     "output_type": "stream",
     "text": [
      "Collecting requests\n",
      "  Using cached requests-2.28.1-py3-none-any.whl (62 kB)\n",
      "Requirement already satisfied: certifi>=2017.4.17 in ./.conda/envs/ipykernel_py3/lib/python3.10/site-packages (from requests) (2022.6.15)\n",
      "Collecting idna<4,>=2.5\n",
      "  Using cached idna-3.3-py3-none-any.whl (61 kB)\n",
      "Collecting urllib3<1.27,>=1.21.1\n",
      "  Using cached urllib3-1.26.11-py2.py3-none-any.whl (139 kB)\n",
      "Collecting charset-normalizer<3,>=2\n",
      "  Using cached charset_normalizer-2.1.0-py3-none-any.whl (39 kB)\n",
      "Installing collected packages: urllib3, idna, charset-normalizer, requests\n",
      "Successfully installed charset-normalizer-2.1.0 idna-3.3 requests-2.28.1 urllib3-1.26.11\n"
     ]
    }
   ],
   "source": [
    "!{sys.executable} -m pip install requests"
   ]
  },
  {
   "cell_type": "code",
   "execution_count": 13,
   "id": "6a27142d-544f-43e2-a707-6f0074179180",
   "metadata": {},
   "outputs": [
    {
     "name": "stdout",
     "output_type": "stream",
     "text": [
      "Collecting tokenizers\n",
      "  Using cached tokenizers-0.12.1-cp310-cp310-manylinux_2_12_x86_64.manylinux2010_x86_64.whl (6.6 MB)\n",
      "Installing collected packages: tokenizers\n",
      "Successfully installed tokenizers-0.12.1\n"
     ]
    }
   ],
   "source": [
    "!{sys.executable} -m pip install tokenizers"
   ]
  },
  {
   "cell_type": "code",
   "execution_count": 14,
   "id": "de4dd042-64ef-40a4-9f28-a092068bdd88",
   "metadata": {},
   "outputs": [
    {
     "name": "stdout",
     "output_type": "stream",
     "text": [
      "Requirement already satisfied: ablang in ./.local/lib/python3.10/site-packages (0.2.2)\n",
      "Requirement already satisfied: requests in ./.conda/envs/ipykernel_py3/lib/python3.10/site-packages (from ablang) (2.28.1)\n",
      "Requirement already satisfied: fairseq in ./.local/lib/python3.10/site-packages (from ablang) (0.12.2)\n",
      "Requirement already satisfied: numpy in ./.local/lib/python3.10/site-packages (from ablang) (1.22.4)\n",
      "Requirement already satisfied: numba in ./.local/lib/python3.10/site-packages (from ablang) (0.56.0)\n",
      "Requirement already satisfied: torch>=1.6 in ./.local/lib/python3.10/site-packages (from ablang) (1.12.1)\n",
      "Requirement already satisfied: typing-extensions in ./.local/lib/python3.10/site-packages (from torch>=1.6->ablang) (4.3.0)\n",
      "Requirement already satisfied: torchaudio>=0.8.0 in ./.local/lib/python3.10/site-packages (from fairseq->ablang) (0.12.1)\n",
      "Requirement already satisfied: hydra-core<1.1,>=1.0.7 in ./.local/lib/python3.10/site-packages (from fairseq->ablang) (1.0.7)\n",
      "Requirement already satisfied: regex in ./.local/lib/python3.10/site-packages (from fairseq->ablang) (2022.7.25)\n",
      "Requirement already satisfied: omegaconf<2.1 in ./.local/lib/python3.10/site-packages (from fairseq->ablang) (2.0.6)\n",
      "Requirement already satisfied: cffi in ./.conda/envs/ipykernel_py3/lib/python3.10/site-packages (from fairseq->ablang) (1.15.1)\n",
      "Requirement already satisfied: sacrebleu>=1.4.12 in ./.local/lib/python3.10/site-packages (from fairseq->ablang) (2.2.0)\n",
      "Requirement already satisfied: bitarray in ./.local/lib/python3.10/site-packages (from fairseq->ablang) (2.6.0)\n",
      "Requirement already satisfied: cython in ./.local/lib/python3.10/site-packages (from fairseq->ablang) (0.29.32)\n",
      "Requirement already satisfied: tqdm in ./.conda/envs/ipykernel_py3/lib/python3.10/site-packages (from fairseq->ablang) (4.64.0)\n",
      "Requirement already satisfied: llvmlite<0.40,>=0.39.0dev0 in ./.local/lib/python3.10/site-packages (from numba->ablang) (0.39.0)\n",
      "Requirement already satisfied: setuptools in ./.conda/envs/ipykernel_py3/lib/python3.10/site-packages (from numba->ablang) (61.2.0)\n",
      "Requirement already satisfied: charset-normalizer<3,>=2 in ./.conda/envs/ipykernel_py3/lib/python3.10/site-packages (from requests->ablang) (2.1.0)\n",
      "Requirement already satisfied: certifi>=2017.4.17 in ./.conda/envs/ipykernel_py3/lib/python3.10/site-packages (from requests->ablang) (2022.6.15)\n",
      "Requirement already satisfied: urllib3<1.27,>=1.21.1 in ./.conda/envs/ipykernel_py3/lib/python3.10/site-packages (from requests->ablang) (1.26.11)\n",
      "Requirement already satisfied: idna<4,>=2.5 in ./.conda/envs/ipykernel_py3/lib/python3.10/site-packages (from requests->ablang) (3.3)\n",
      "Requirement already satisfied: antlr4-python3-runtime==4.8 in ./.local/lib/python3.10/site-packages (from hydra-core<1.1,>=1.0.7->fairseq->ablang) (4.8)\n",
      "Requirement already satisfied: PyYAML>=5.1.* in ./.local/lib/python3.10/site-packages (from omegaconf<2.1->fairseq->ablang) (6.0)\n",
      "Requirement already satisfied: colorama in ./.local/lib/python3.10/site-packages (from sacrebleu>=1.4.12->fairseq->ablang) (0.4.5)\n",
      "Requirement already satisfied: lxml in ./.local/lib/python3.10/site-packages (from sacrebleu>=1.4.12->fairseq->ablang) (4.9.1)\n",
      "Requirement already satisfied: tabulate>=0.8.9 in ./.local/lib/python3.10/site-packages (from sacrebleu>=1.4.12->fairseq->ablang) (0.8.10)\n",
      "Requirement already satisfied: portalocker in ./.local/lib/python3.10/site-packages (from sacrebleu>=1.4.12->fairseq->ablang) (2.5.1)\n",
      "Requirement already satisfied: pycparser in ./.conda/envs/ipykernel_py3/lib/python3.10/site-packages (from cffi->fairseq->ablang) (2.21)\n"
     ]
    }
   ],
   "source": [
    "!{sys.executable} -m pip install ablang"
   ]
  },
  {
   "cell_type": "code",
   "execution_count": null,
   "id": "5581dbad-b68f-40d2-8eb7-dc3871fd5981",
   "metadata": {},
   "outputs": [],
   "source": []
  },
  {
   "cell_type": "code",
   "execution_count": 15,
   "id": "deeda147-190d-4999-a0c3-1a718e22abf0",
   "metadata": {},
   "outputs": [],
   "source": [
    "import numpy\n",
    "import pandas\n",
    "import matplotlib.pyplot as plt\n",
    "import math\n",
    "import os, json, argparse, string, subprocess, re"
   ]
  },
  {
   "cell_type": "code",
   "execution_count": null,
   "id": "19a28550-82fa-43ab-81f7-bdc2e2d558c4",
   "metadata": {},
   "outputs": [],
   "source": []
  },
  {
   "cell_type": "code",
   "execution_count": null,
   "id": "66f0399c-8c8c-40f7-806d-67114143099d",
   "metadata": {},
   "outputs": [],
   "source": []
  }
 ],
 "metadata": {
  "kernelspec": {
   "display_name": "Python 3 (ipykernel)",
   "language": "python",
   "name": "python3"
  },
  "language_info": {
   "codemirror_mode": {
    "name": "ipython",
    "version": 3
   },
   "file_extension": ".py",
   "mimetype": "text/x-python",
   "name": "python",
   "nbconvert_exporter": "python",
   "pygments_lexer": "ipython3",
   "version": "3.10.4"
  }
 },
 "nbformat": 4,
 "nbformat_minor": 5
}
