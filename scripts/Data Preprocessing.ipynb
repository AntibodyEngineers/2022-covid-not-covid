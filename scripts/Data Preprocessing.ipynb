{
 "cells": [
  {
   "cell_type": "markdown",
   "id": "70a53a2b-11c9-4015-8e5d-96ab88b4843d",
   "metadata": {},
   "source": [
    "## Data Preprocessing - Identifying the Human Cases"
   ]
  },
  {
   "cell_type": "markdown",
   "id": "bc3b89e1-3da5-4588-b825-4fb69178aeb3",
   "metadata": {},
   "source": [
    "Contributor(s): Nashita Bhuiyan\n",
    "\n",
    "The following code reads in a set of input data and extracts all the data originating from a Human. "
   ]
  },
  {
   "cell_type": "code",
   "execution_count": 1,
   "id": "5071ed8b-5b06-4e77-a2fe-24950a2631ca",
   "metadata": {},
   "outputs": [],
   "source": [
    "import pandas as pd"
   ]
  },
  {
   "cell_type": "code",
   "execution_count": 2,
   "id": "8a82717b-bd2a-4b42-8cb5-db31170a5bf3",
   "metadata": {},
   "outputs": [],
   "source": [
    "# text identifier used to determine if an antibody orginated from a human or not\n",
    "HUMAN = \"human\"\n",
    "\n",
    "# column name containing information related to where the antibody originated from\n",
    "ORIGIN = 'Origin'"
   ]
  },
  {
   "cell_type": "code",
   "execution_count": 3,
   "id": "64fb10d4-9c53-4dc8-bd48-558345638fec",
   "metadata": {},
   "outputs": [],
   "source": [
    "# read csv file containing data sets and create a data frame \n",
    "df = pd.read_csv(\"covabdab_search_results.csv\")"
   ]
  },
  {
   "cell_type": "code",
   "execution_count": 4,
   "id": "adf3670f-7d7f-442d-896f-8f5ef1db3154",
   "metadata": {},
   "outputs": [],
   "source": [
    "# number of data points\n",
    "frame_size = len(df.index)\n",
    "\n",
    "# list of rows containing antibodies of non-human origin, to remove\n",
    "remove = []\n",
    "\n",
    "# iterate through every data point in the set and identify data points that are of non-human origin\n",
    "for i in range(frame_size):\n",
    "    \n",
    "    # extract the text describing the origin of a particular data point\n",
    "    origin = str(df.iloc[i][ORIGIN]).lower()\n",
    "    \n",
    "    # determine if the text extracted indicates that the antibody being examined is human or not (Human if text contains the word \"human\")\n",
    "    # if the antibody is non-human add the index number of the antibody to the list of rows to remove\n",
    "    if origin.find(HUMAN) == -1:\n",
    "        remove.append(i)\n",
    "\n",
    "# remove the rows containing antibodies of non-human origin\n",
    "df.drop(df.index[remove], inplace=True)\n",
    "        "
   ]
  },
  {
   "cell_type": "code",
   "execution_count": 5,
   "id": "462c3e9a-4a3e-4c59-b3b4-5649c82290a8",
   "metadata": {},
   "outputs": [],
   "source": [
    "# upload the updated data set to a new csv file\n",
    "df.to_csv(\"updated_covab_set.csv\")"
   ]
  },
  {
   "cell_type": "code",
   "execution_count": null,
   "id": "01785e4d-b9cf-435e-bf94-eadf4311b3a5",
   "metadata": {},
   "outputs": [],
   "source": []
  },
  {
   "cell_type": "code",
   "execution_count": null,
   "id": "bbb16878-8914-4a6b-8a60-157d327d83e8",
   "metadata": {},
   "outputs": [],
   "source": []
  },
  {
   "cell_type": "code",
   "execution_count": null,
   "id": "97e4eb9c-53b9-44e9-92d1-b91d9fc9693c",
   "metadata": {},
   "outputs": [],
   "source": []
  },
  {
   "cell_type": "code",
   "execution_count": null,
   "id": "b8a4964e-30eb-428e-8eb8-83462aebf443",
   "metadata": {},
   "outputs": [],
   "source": []
  },
  {
   "cell_type": "code",
   "execution_count": null,
   "id": "360367d2-b039-4810-b649-b38f10ce2fc8",
   "metadata": {},
   "outputs": [],
   "source": []
  }
 ],
 "metadata": {
  "kernelspec": {
   "display_name": "Python 3 (ipykernel)",
   "language": "python",
   "name": "python3"
  },
  "language_info": {
   "codemirror_mode": {
    "name": "ipython",
    "version": 3
   },
   "file_extension": ".py",
   "mimetype": "text/x-python",
   "name": "python",
   "nbconvert_exporter": "python",
   "pygments_lexer": "ipython3",
   "version": "3.10.4"
  }
 },
 "nbformat": 4,
 "nbformat_minor": 5
}
